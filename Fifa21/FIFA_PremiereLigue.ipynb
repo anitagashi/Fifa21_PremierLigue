{
 "cells": [
  {
   "cell_type": "code",
   "execution_count": null,
   "id": "bf4a51c9",
   "metadata": {},
   "outputs": [],
   "source": [
    "import pandas as pd\n",
    "import numpy as np\n",
    "import math\n",
    "from sklearn import linear_model\n",
    "\n",
    "file= pd.read_csv('fifa21_train.csv')\n",
    "file.head()"
   ]
  },
  {
   "cell_type": "code",
   "execution_count": null,
   "id": "ae1afbfc",
   "metadata": {},
   "outputs": [],
   "source": [
    "for col in file.columns:\n",
    "    print(col)\n"
   ]
  },
  {
   "cell_type": "code",
   "execution_count": null,
   "id": "a6865445",
   "metadata": {},
   "outputs": [],
   "source": [
    "file_filtered = file[[\"Age\",\"Weight\", \"Height\",\"BP\",\"Attacking\", \"Skill\",\"Movement\",\"Power\",\"Mentality\",\n",
    "                     \"Defending\",\"Goalkeeping\",\"LS\",\"ST\",\"RS\",\"LW\",\"LF\",\"CF\",\"RF\",\"RW\",\"LAM\",\"CAM\",\"RAM\",\"LM\",\"LCM\",\"CM\",\"RCM\",\n",
    "                      \"RM\",\"LWB\",\"LDM\",\"CDM\",\"RDM\",\"RWB\",\"LB\",\"LCB\",\"CB\",\"RCB\",\"RB\",\"GK\",\"OVA\"]]"
   ]
  },
  {
   "cell_type": "code",
   "execution_count": null,
   "id": "6e778cdb",
   "metadata": {},
   "outputs": [],
   "source": [
    "file_filtered.head().T"
   ]
  },
  {
   "cell_type": "markdown",
   "id": "d43ee43f",
   "metadata": {},
   "source": [
    "# Check Duplicates"
   ]
  },
  {
   "cell_type": "code",
   "execution_count": null,
   "id": "bea1e3c9",
   "metadata": {},
   "outputs": [],
   "source": [
    "file_filtered = file_filtered.drop_duplicates()\n",
    "display(file_filtered)"
   ]
  },
  {
   "cell_type": "markdown",
   "id": "1181b5ba",
   "metadata": {},
   "source": [
    "# Checking Datatypes"
   ]
  },
  {
   "cell_type": "code",
   "execution_count": null,
   "id": "a47161a2",
   "metadata": {},
   "outputs": [],
   "source": [
    "file_filtered.isna().sum()"
   ]
  },
  {
   "cell_type": "code",
   "execution_count": null,
   "id": "4977d180",
   "metadata": {},
   "outputs": [],
   "source": [
    "column_types = file_filtered.dtypes\n",
    "print(column_types)"
   ]
  },
  {
   "cell_type": "code",
   "execution_count": null,
   "id": "4c1fb7fb",
   "metadata": {},
   "outputs": [],
   "source": [
    "display(file_filtered[\"BP\"].value_counts(dropna = False))"
   ]
  },
  {
   "cell_type": "markdown",
   "id": "77b5c347",
   "metadata": {},
   "source": [
    "# Height and Weight is converted into cms and Kgs"
   ]
  },
  {
   "cell_type": "code",
   "execution_count": null,
   "id": "83c3f1eb",
   "metadata": {},
   "outputs": [],
   "source": [
    "def convert_height(height):\n",
    "    feet, inches = height.split(\"'\")\n",
    "    feet = int(feet)\n",
    "    inches = int(inches.replace(\"\\\"\", \"\"))\n",
    "    height_cm = feet * 30.48 + inches * 2.54\n",
    "    return height_cm\n",
    "\n",
    "file_filtered[\"Height_in_cms\"] = file_filtered['Height'].apply(convert_height)"
   ]
  },
  {
   "cell_type": "code",
   "execution_count": null,
   "id": "a0410920",
   "metadata": {},
   "outputs": [],
   "source": [
    "file_filtered = file_filtered.drop([\"Height\"], axis=1)"
   ]
  },
  {
   "cell_type": "code",
   "execution_count": null,
   "id": "44d89396",
   "metadata": {},
   "outputs": [],
   "source": [
    "def convert_weight(weight):\n",
    "    \n",
    "    weight =weight.replace(\"lbs\", \"\")\n",
    "    return float(weight)*0.45"
   ]
  },
  {
   "cell_type": "code",
   "execution_count": null,
   "id": "270f2796",
   "metadata": {},
   "outputs": [],
   "source": [
    "file_filtered[\"Weight_in_kg\"] = file_filtered['Weight'].apply(convert_weight)"
   ]
  },
  {
   "cell_type": "code",
   "execution_count": null,
   "id": "5ca7bb80",
   "metadata": {},
   "outputs": [],
   "source": [
    "file_filtered = file_filtered.drop([\"Weight\"], axis=1)"
   ]
  },
  {
   "cell_type": "code",
   "execution_count": null,
   "id": "97cd3d74",
   "metadata": {},
   "outputs": [],
   "source": [
    "file_filtered.head().T"
   ]
  },
  {
   "cell_type": "code",
   "execution_count": null,
   "id": "ddecad4b",
   "metadata": {},
   "outputs": [],
   "source": [
    "#we put the column of Height_in_cms and Weight_in_kg in the beggining of Dataframe\n",
    "height_column = file_filtered.pop('Height_in_cms')\n",
    "file_filtered.insert(1, 'Height_in_cms', height_column)\n",
    "\n",
    "weight_column = file_filtered.pop('Weight_in_kg')\n",
    "file_filtered.insert(2, 'Weight_in_kg', weight_column)\n",
    "\n",
    "# Print the updated dataframe\n",
    "file_filtered.head().T"
   ]
  },
  {
   "cell_type": "code",
   "execution_count": null,
   "id": "1be6a33d",
   "metadata": {},
   "outputs": [],
   "source": [
    "columns_to_convert = [\"LS\",\"ST\",\"RS\",\"LW\",\"LF\",\"CF\",\"RF\",\"RW\",\"LAM\",\"CAM\",\"RAM\",\"LM\",\"LCM\",\"CM\",\"RCM\",\n",
    "                      \"RM\",\"LWB\",\"LDM\",\"CDM\",\"RDM\",\"RWB\",\"LB\",\"LCB\",\"CB\",\"RCB\",\"RB\",\"GK\" ] \n",
    "\n",
    "def convert_stats(x):\n",
    "    if isinstance(x, int):\n",
    "        return x\n",
    "    else:\n",
    "        return int(x[0:x.index(\"+\")])\n",
    "\n",
    "\n",
    "for column in columns_to_convert:\n",
    "    file_filtered[column] = file_filtered[column].apply(convert_stats)\n",
    "\n"
   ]
  },
  {
   "cell_type": "code",
   "execution_count": null,
   "id": "b731732e",
   "metadata": {},
   "outputs": [],
   "source": [
    "file_filtered.head().T"
   ]
  },
  {
   "cell_type": "code",
   "execution_count": null,
   "id": "66b67cd6",
   "metadata": {},
   "outputs": [],
   "source": [
    "# Basing on this link we have decided to leave only these positions \n",
    "#link = https://gaming.stackexchange.com/questions/167318/what-do-fifa-14-position-acronyms-mean\n"
   ]
  },
  {
   "cell_type": "code",
   "execution_count": null,
   "id": "5020e70e",
   "metadata": {},
   "outputs": [],
   "source": [
    "#Check correlation by Heatmap\n",
    "import seaborn as sns\n",
    "import matplotlib.pyplot as plt\n",
    "from matplotlib.pyplot import figure\n",
    "\n",
    "correlation_matrix = file_filtered.corr()\n",
    "\n",
    "plt.figure(figsize=(20, 15), dpi =80)  # Set the figure size\n",
    "sns.heatmap(correlation_matrix, annot=True,cmap='coolwarm')\n",
    "plt.show()\n"
   ]
  },
  {
   "cell_type": "code",
   "execution_count": null,
   "id": "77303640",
   "metadata": {},
   "outputs": [],
   "source": [
    "#After looking at the correlation matrix, we figured out that there are sveral columns with same and have same meaning. \n",
    "#for Eg LCB,CB, RCB. Hence we can delete these redundant columns\n",
    "file_filtered_new= file_filtered [['Age','Height_in_cms',\"Weight_in_kg\",'BP', 'Attacking', 'Skill', 'Movement', \n",
    "                      'Power', 'Mentality', 'Defending','Goalkeeping', 'ST', 'LW', \n",
    "                      'CF', 'RW', 'CAM', 'LM', 'CM', 'RM', 'LWB', 'CDM', 'RWB', 'LB', 'CB', 'RB', 'GK','OVA']]\n",
    "file_filtered_new"
   ]
  },
  {
   "cell_type": "code",
   "execution_count": null,
   "id": "cea766fc",
   "metadata": {},
   "outputs": [],
   "source": [
    "file_filtered_new.to_csv('fifa21_train_clean.csv', index=True)"
   ]
  },
  {
   "cell_type": "code",
   "execution_count": null,
   "id": "c83e3f38",
   "metadata": {},
   "outputs": [],
   "source": [
    "figure(figsize=(15, 10), dpi=80)\n",
    "\n",
    "corr_mat = file_filtered_new.corr(numeric_only = True)"
   ]
  },
  {
   "cell_type": "markdown",
   "id": "50c92472",
   "metadata": {},
   "source": [
    "# Checking categorical and numerical data"
   ]
  },
  {
   "cell_type": "code",
   "execution_count": null,
   "id": "8244da30",
   "metadata": {},
   "outputs": [],
   "source": [
    "numerical = file_filtered_new.select_dtypes(include=np.number)\n",
    "categoricals = file_filtered_new.select_dtypes(include=np.object)"
   ]
  },
  {
   "cell_type": "code",
   "execution_count": null,
   "id": "44e18a73",
   "metadata": {},
   "outputs": [],
   "source": [
    "display(numerical)"
   ]
  },
  {
   "cell_type": "code",
   "execution_count": null,
   "id": "7d55e156",
   "metadata": {},
   "outputs": [],
   "source": [
    "display(categoricals)"
   ]
  },
  {
   "cell_type": "code",
   "execution_count": null,
   "id": "526f8e1f",
   "metadata": {},
   "outputs": [],
   "source": [
    "#Insight: Features have high correlation among themselves and low with target. Now I will try deleting some features.\n",
    "columns_to_drop = [\"LM\", \"LW\", \"LWB\",\"LB\", \"GK\"]\n",
    "file_filtered_new = file_filtered_new.drop(columns_to_drop, axis=1)\n",
    "\n",
    "# Display the updated DataFrame\n",
    "display(file_filtered_new)"
   ]
  },
  {
   "cell_type": "code",
   "execution_count": null,
   "id": "84df277f",
   "metadata": {},
   "outputs": [],
   "source": [
    "file_filtered_new.head().T"
   ]
  },
  {
   "cell_type": "markdown",
   "id": "1ae4b473",
   "metadata": {},
   "source": [
    "# Creating feature and target columns"
   ]
  },
  {
   "cell_type": "code",
   "execution_count": null,
   "id": "f0d10d8a",
   "metadata": {},
   "outputs": [],
   "source": [
    "X = file_filtered_new.copy() # features\n",
    "X = X.drop([\"OVA\"], axis = 1)\n",
    "X_num = X.select_dtypes(include = np.number)\n",
    "X_cat = X.select_dtypes(include = object)\n",
    "\n",
    "y = file_filtered_new[\"OVA\"] "
   ]
  },
  {
   "cell_type": "code",
   "execution_count": null,
   "id": "8b062424",
   "metadata": {},
   "outputs": [],
   "source": [
    "display(X.head())\n",
    "display(X_num.head())\n",
    "display(X_cat.head())\n",
    "display(y.head())"
   ]
  },
  {
   "cell_type": "code",
   "execution_count": null,
   "id": "662f3a96",
   "metadata": {},
   "outputs": [],
   "source": [
    "# from sklearn.preprocessing import StandardScaler\n",
    "\n",
    "# scaler = StandardScaler()\n",
    "# numerical_normalized = scaler.fit_transform(numerical)\n",
    "# numerical_normalized = pd.DataFrame(numerical_normalized, columns=numerical.columns)\n",
    "# numerical_normalized.head()"
   ]
  },
  {
   "cell_type": "markdown",
   "id": "a793dead",
   "metadata": {},
   "source": [
    "# Normalization"
   ]
  },
  {
   "cell_type": "code",
   "execution_count": null,
   "id": "8db58034",
   "metadata": {},
   "outputs": [],
   "source": [
    "from sklearn.preprocessing import MinMaxScaler \n",
    "from sklearn.preprocessing import OneHotEncoder\n",
    "\n",
    "# Normalizing X's numerical columns\n",
    "\n",
    "def minmaxscaler(X_num):\n",
    "\n",
    "    scaler = MinMaxScaler().fit(X_num)\n",
    "    X_num_normalized = scaler.transform(X_num)\n",
    "    X_num_scaled = pd.DataFrame(X_num_normalized, columns = X_num.columns)\n",
    "    return X_num_scaled"
   ]
  },
  {
   "cell_type": "code",
   "execution_count": null,
   "id": "c35b7acf",
   "metadata": {},
   "outputs": [],
   "source": [
    "# Called minmaxscaler function.\n",
    "\n",
    "X_num_scaled = minmaxscaler(X_num)\n",
    "\n",
    "print(X_num_scaled.shape)\n",
    "X_num_scaled.head().T"
   ]
  },
  {
   "cell_type": "markdown",
   "id": "036c6857",
   "metadata": {},
   "source": [
    "# Encoding categorical columns"
   ]
  },
  {
   "cell_type": "code",
   "execution_count": null,
   "id": "579ba4d7",
   "metadata": {},
   "outputs": [],
   "source": [
    "# Function to encode categorical columns.\n",
    "\n",
    "def onehotencoder(X_cat): \n",
    "    \n",
    "    encoder = OneHotEncoder(drop='first').fit(X_cat)\n",
    "    cols = encoder.get_feature_names_out(input_features=X_cat.columns)\n",
    "    X_cat_encode = pd.DataFrame(encoder.transform(X_cat).toarray(),columns=cols)\n",
    "    \n",
    "    return X_cat_encode\n"
   ]
  },
  {
   "cell_type": "code",
   "execution_count": null,
   "id": "2388079b",
   "metadata": {},
   "outputs": [],
   "source": [
    "# Calling onehotencoder function\n",
    "X_cat_encode = onehotencoder(X_cat)\n",
    "\n",
    "print(X_cat_encode.shape)\n",
    "X_cat_encode.head().T\n",
    "X_cat_encode.columns"
   ]
  },
  {
   "cell_type": "markdown",
   "id": "5aa36f73",
   "metadata": {},
   "source": [
    "# Concatenating X_num and X_cat dataframes into X"
   ]
  },
  {
   "cell_type": "code",
   "execution_count": null,
   "id": "a441b8fe",
   "metadata": {},
   "outputs": [],
   "source": [
    "X = pd.concat([X_cat_encode, X_num_scaled], axis = 1)\n",
    "display(X.shape)\n",
    "display(X.head().T)\n",
    "\n",
    "display(X.columns)\n",
    "display(X_num_scaled)"
   ]
  },
  {
   "cell_type": "markdown",
   "id": "2967e6d2",
   "metadata": {},
   "source": [
    "# Splitting data into train and test dataset."
   ]
  },
  {
   "cell_type": "code",
   "execution_count": null,
   "id": "9821217d",
   "metadata": {},
   "outputs": [],
   "source": [
    "from sklearn.model_selection import train_test_split\n",
    "X_train, X_test, y_train, y_test = train_test_split(X, y, test_size=0.2, random_state=42)\n",
    "\n",
    "print(X_train.shape)\n",
    "print(X_test.shape)\n",
    "print(y_train.shape)\n",
    "print(y_test.shape)\n"
   ]
  },
  {
   "cell_type": "markdown",
   "id": "e049c40a",
   "metadata": {},
   "source": [
    "# Linear Regresion"
   ]
  },
  {
   "cell_type": "code",
   "execution_count": null,
   "id": "330a7287",
   "metadata": {},
   "outputs": [],
   "source": [
    "from sklearn import linear_model\n",
    "lm = linear_model.LinearRegression()\n",
    "\n",
    "# Training X_train and y_train to find the patterns and relationship among them. \n",
    "\n",
    "lm.fit(X_train,y_train)"
   ]
  },
  {
   "cell_type": "markdown",
   "id": "269a71be",
   "metadata": {},
   "source": [
    "# Model Predictions and Validations - r2 score"
   ]
  },
  {
   "cell_type": "code",
   "execution_count": null,
   "id": "f64a3d3a",
   "metadata": {},
   "outputs": [],
   "source": [
    "from sklearn.metrics import r2_score\n",
    "\n",
    "\n",
    "# As we have trained in above line, now we will make predictions from X_train dataset.\n",
    "predictions = lm.predict(X_train)\n",
    "\n",
    "# Now we will deduce r2 score for train model, to understand the chances of errors.\n",
    "display(r2_score(y_train, predictions))"
   ]
  },
  {
   "cell_type": "code",
   "execution_count": null,
   "id": "6120e4f5",
   "metadata": {},
   "outputs": [],
   "source": [
    "predictions_test = lm.predict(X_test)\n",
    "\n",
    "#r2 score  for test model\n",
    "display(r2_score(y_test, predictions_test))\n",
    "display(predictions_test.shape)\n",
    "display(predictions_test[:5])\n",
    "display(y_test[:5])"
   ]
  },
  {
   "cell_type": "code",
   "execution_count": null,
   "id": "ecf5eae6",
   "metadata": {},
   "outputs": [],
   "source": []
  },
  {
   "cell_type": "code",
   "execution_count": null,
   "id": "763eb2c8",
   "metadata": {},
   "outputs": [],
   "source": []
  },
  {
   "cell_type": "markdown",
   "id": "da243065",
   "metadata": {},
   "source": [
    "# Mean Squared Error"
   ]
  },
  {
   "cell_type": "code",
   "execution_count": null,
   "id": "f868f453",
   "metadata": {},
   "outputs": [],
   "source": [
    "from sklearn.metrics import mean_squared_error\n",
    "\n",
    "mse = mean_squared_error(y_test,predictions_test)\n",
    "mse"
   ]
  },
  {
   "cell_type": "markdown",
   "id": "85f6deea",
   "metadata": {},
   "source": [
    "# Root mean square error"
   ]
  },
  {
   "cell_type": "code",
   "execution_count": null,
   "id": "18ed18d0",
   "metadata": {},
   "outputs": [],
   "source": [
    "rmse = np.sqrt(mean_squared_error(y_test,predictions_test))\n",
    "rmse"
   ]
  },
  {
   "cell_type": "markdown",
   "id": "d4a53725",
   "metadata": {},
   "source": [
    "# Mean Absolute Error"
   ]
  },
  {
   "cell_type": "code",
   "execution_count": null,
   "id": "461bb861",
   "metadata": {},
   "outputs": [],
   "source": [
    "from sklearn.metrics import mean_squared_error, r2_score\n",
    "from sklearn.metrics import mean_absolute_error\n",
    "\n",
    "mae = mean_absolute_error(y_test, predictions_test)\n",
    "mae\n"
   ]
  },
  {
   "cell_type": "code",
   "execution_count": null,
   "id": "d247dd59",
   "metadata": {},
   "outputs": [],
   "source": [
    "display(y_test.mean())\n",
    "display(file_filtered_new[\"OVA\"].mean())"
   ]
  },
  {
   "cell_type": "markdown",
   "id": "46a20346",
   "metadata": {},
   "source": [
    "# Results after looking at the r2 score"
   ]
  },
  {
   "cell_type": "code",
   "execution_count": null,
   "id": "65408f28",
   "metadata": {},
   "outputs": [],
   "source": [
    "file_to_predict = pd.read_csv(\"fifa21_validate.csv\")\n",
    "\n",
    "display(file_to_predict.shape)\n",
    "file_to_predict.head().T"
   ]
  },
  {
   "cell_type": "markdown",
   "id": "7f105bb6",
   "metadata": {},
   "source": [
    "# Dropping duplicates"
   ]
  },
  {
   "cell_type": "code",
   "execution_count": null,
   "id": "21b889e2",
   "metadata": {},
   "outputs": [],
   "source": [
    "file_to_predict.dtypes"
   ]
  },
  {
   "cell_type": "code",
   "execution_count": null,
   "id": "197ce1af",
   "metadata": {},
   "outputs": [],
   "source": [
    "file_to_predict = file_to_predict.drop_duplicates()\n",
    "\n",
    "file_to_predict.shape"
   ]
  },
  {
   "cell_type": "markdown",
   "id": "f3889957",
   "metadata": {},
   "source": [
    "# Extracting necessary columns from main dataset"
   ]
  },
  {
   "cell_type": "code",
   "execution_count": null,
   "id": "5c4f1f1d",
   "metadata": {},
   "outputs": [],
   "source": [
    "columns_to_keep = ['Age', 'Height', 'Weight', 'BP', 'Attacking', 'Skill',\n",
    "                   'Movement', 'Power', 'Mentality', 'Defending', 'Goalkeeping', 'ST',\n",
    "                   'CF', 'RW', 'CAM', 'CM', 'RM', 'CDM', 'RWB', 'CB', 'RB', 'OVA']\n",
    "\n",
    "file_to_predict_new = file_to_predict[columns_to_keep]\n",
    "display(file_to_predict_new.shape)\n",
    "file_to_predict_new.head().T"
   ]
  },
  {
   "cell_type": "markdown",
   "id": "c78762bc",
   "metadata": {},
   "source": [
    "# Converting height into cms and weight into kgs"
   ]
  },
  {
   "cell_type": "code",
   "execution_count": null,
   "id": "fcdf4adc",
   "metadata": {},
   "outputs": [],
   "source": [
    "file_to_predict_new[\"Height_in_cms\"] = file_to_predict_new[\"Height\"].apply(convert_height)\n",
    "file_to_predict_new[\"Weight_in_kgs\"] = file_to_predict_new[\"Weight\"].apply(convert_weight)"
   ]
  },
  {
   "cell_type": "code",
   "execution_count": null,
   "id": "8aa65029",
   "metadata": {},
   "outputs": [],
   "source": [
    "file_to_predict_new = file_to_predict_new.drop([\"Height\", \"Weight\"], axis = 1)"
   ]
  },
  {
   "cell_type": "code",
   "execution_count": null,
   "id": "9fee4020",
   "metadata": {},
   "outputs": [],
   "source": [
    "file_to_predict_new.head().T"
   ]
  },
  {
   "cell_type": "markdown",
   "id": "ff97f1d0",
   "metadata": {},
   "source": [
    "# Converting columns into int datatype"
   ]
  },
  {
   "cell_type": "code",
   "execution_count": null,
   "id": "6dd303b2",
   "metadata": {},
   "outputs": [],
   "source": [
    "columns = ['ST', 'CF', 'RW', 'CAM', 'CM', 'RM', 'CDM', 'RWB', 'CB', 'RB']"
   ]
  },
  {
   "cell_type": "code",
   "execution_count": null,
   "id": "687fde1e",
   "metadata": {},
   "outputs": [],
   "source": [
    "for column in columns:\n",
    "    file_to_predict_new[column] = file_to_predict_new[column].apply(convert_stats)\n",
    "    \n",
    "file_to_predict_new.isna().sum()"
   ]
  },
  {
   "cell_type": "code",
   "execution_count": null,
   "id": "5cfadf27",
   "metadata": {},
   "outputs": [],
   "source": [
    "height_column = file_to_predict_new.pop('Height_in_cms')\n",
    "file_to_predict_new.insert(2, 'Height_in_cms', height_column)\n",
    "\n",
    "weight_column = file_to_predict_new.pop('Weight_in_kgs')\n",
    "file_to_predict_new.insert(3, 'Weight_in_kgs', weight_column)"
   ]
  },
  {
   "cell_type": "markdown",
   "id": "59279d47",
   "metadata": {},
   "source": [
    "# Creating features and target columns"
   ]
  },
  {
   "cell_type": "code",
   "execution_count": null,
   "id": "7047316c",
   "metadata": {},
   "outputs": [],
   "source": [
    "X_predict = file_to_predict_new.copy() # features\n",
    "X_predict = X_predict.drop([\"OVA\"], axis = 1)\n",
    "X_num_predict = X_predict.select_dtypes(include = np.number)\n",
    "X_cat_predict = X_predict.select_dtypes(include = object)\n",
    "\n",
    "y = file_to_predict_new[\"OVA\"] # target"
   ]
  },
  {
   "cell_type": "markdown",
   "id": "37e8e29e",
   "metadata": {},
   "source": [
    "# Normalization"
   ]
  },
  {
   "cell_type": "code",
   "execution_count": null,
   "id": "ad4a61ef",
   "metadata": {},
   "outputs": [],
   "source": [
    "X_cat_encoded_predict = onehotencoder(X_cat_predict)\n",
    "display(X_cat_encoded_predict.shape)\n",
    "X_cat_encoded_predict.head().T"
   ]
  },
  {
   "cell_type": "code",
   "execution_count": null,
   "id": "80d5d5fe",
   "metadata": {},
   "outputs": [],
   "source": [
    "X_num_scaled_predict = minmaxscaler(X_num_predict)\n",
    "display(X_num_scaled_predict.shape)\n",
    "X_num_scaled_predict.head().T"
   ]
  },
  {
   "cell_type": "markdown",
   "id": "ff42f8b2",
   "metadata": {},
   "source": [
    "# Concatenating transformed data into X_predict"
   ]
  },
  {
   "cell_type": "code",
   "execution_count": null,
   "id": "f54ded83",
   "metadata": {},
   "outputs": [],
   "source": [
    "X_predict = pd.concat([X_cat_encoded_predict, X_num_scaled_predict], axis = 1)\n",
    "display(X_predict.shape)\n",
    "display(X_predict.head().T)"
   ]
  },
  {
   "cell_type": "code",
   "execution_count": null,
   "id": "a06313bf",
   "metadata": {},
   "outputs": [],
   "source": [
    "results = lm.predict(X_predict)"
   ]
  },
  {
   "cell_type": "code",
   "execution_count": null,
   "id": "fb945c9e",
   "metadata": {},
   "outputs": [],
   "source": [
    "results"
   ]
  },
  {
   "cell_type": "code",
   "execution_count": null,
   "id": "ba3952cd",
   "metadata": {},
   "outputs": [],
   "source": [
    "len(results)"
   ]
  },
  {
   "cell_type": "code",
   "execution_count": null,
   "id": "b1eb6386",
   "metadata": {},
   "outputs": [],
   "source": [
    "predicted_df = pd.concat([file_to_predict_new,pd.Series(results, name=\"predicted_OVA\")],axis=1)"
   ]
  },
  {
   "cell_type": "code",
   "execution_count": null,
   "id": "22663d0f",
   "metadata": {},
   "outputs": [],
   "source": [
    "predicted_df.head().T"
   ]
  },
  {
   "cell_type": "markdown",
   "id": "7c6867ff",
   "metadata": {},
   "source": [
    "# Metrics"
   ]
  },
  {
   "cell_type": "code",
   "execution_count": null,
   "id": "6da81152",
   "metadata": {},
   "outputs": [],
   "source": [
    "r2_predict = r2_score(file_to_predict_new[\"OVA\"], results)\n",
    "r2_predict"
   ]
  },
  {
   "cell_type": "code",
   "execution_count": null,
   "id": "9263f9c8",
   "metadata": {},
   "outputs": [],
   "source": [
    "mae = mean_absolute_error(file_to_predict_new[\"OVA\"], results)\n",
    "mae"
   ]
  },
  {
   "cell_type": "code",
   "execution_count": null,
   "id": "6d516d4a",
   "metadata": {},
   "outputs": [],
   "source": [
    "mse = mean_squared_error(file_to_predict_new[\"OVA\"], results)\n",
    "mse"
   ]
  },
  {
   "cell_type": "code",
   "execution_count": null,
   "id": "5b5f52bb",
   "metadata": {},
   "outputs": [],
   "source": [
    "rmse = np.sqrt(mse)\n",
    "rmse"
   ]
  },
  {
   "cell_type": "code",
   "execution_count": null,
   "id": "0e9b09d5",
   "metadata": {},
   "outputs": [],
   "source": []
  },
  {
   "cell_type": "code",
   "execution_count": null,
   "id": "39fffc3c",
   "metadata": {},
   "outputs": [],
   "source": []
  },
  {
   "cell_type": "code",
   "execution_count": null,
   "id": "380b0b18",
   "metadata": {},
   "outputs": [],
   "source": []
  },
  {
   "cell_type": "code",
   "execution_count": null,
   "id": "3ee6c3d2",
   "metadata": {},
   "outputs": [],
   "source": []
  }
 ],
 "metadata": {
  "kernelspec": {
   "display_name": "Python 3 (ipykernel)",
   "language": "python",
   "name": "python3"
  },
  "language_info": {
   "codemirror_mode": {
    "name": "ipython",
    "version": 3
   },
   "file_extension": ".py",
   "mimetype": "text/x-python",
   "name": "python",
   "nbconvert_exporter": "python",
   "pygments_lexer": "ipython3",
   "version": "3.10.9"
  }
 },
 "nbformat": 4,
 "nbformat_minor": 5
}
